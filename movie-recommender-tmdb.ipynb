{
 "cells": [
  {
   "cell_type": "code",
   "execution_count": 1,
   "id": "f0101796",
   "metadata": {
    "_cell_guid": "b1076dfc-b9ad-4769-8c92-a6c4dae69d19",
    "_uuid": "8f2839f25d086af736a60e9eeb907d3b93b6e0e5",
    "execution": {
     "iopub.execute_input": "2024-06-02T23:06:20.463476Z",
     "iopub.status.busy": "2024-06-02T23:06:20.462071Z",
     "iopub.status.idle": "2024-06-02T23:06:21.553753Z",
     "shell.execute_reply": "2024-06-02T23:06:21.552362Z"
    },
    "papermill": {
     "duration": 1.112918,
     "end_time": "2024-06-02T23:06:21.556846",
     "exception": false,
     "start_time": "2024-06-02T23:06:20.443928",
     "status": "completed"
    },
    "tags": []
   },
   "outputs": [
    {
     "name": "stdout",
     "output_type": "stream",
     "text": [
      "/kaggle/input/tmdb-movie-metadata/tmdb_5000_movies.csv\n",
      "/kaggle/input/tmdb-movie-metadata/tmdb_5000_credits.csv\n"
     ]
    }
   ],
   "source": [
    "# This Python 3 environment comes with many helpful analytics libraries installed\n",
    "# It is defined by the kaggle/python Docker image: https://github.com/kaggle/docker-python\n",
    "# For example, here's several helpful packages to load\n",
    "\n",
    "import numpy as np # linear algebra\n",
    "import pandas as pd # data processing, CSV file I/O (e.g. pd.read_csv)\n",
    "\n",
    "# Input data files are available in the read-only \"../input/\" directory\n",
    "# For example, running this (by clicking run or pressing Shift+Enter) will list all files under the input directory\n",
    "\n",
    "import os\n",
    "for dirname, _, filenames in os.walk('/kaggle/input'):\n",
    "    for filename in filenames:\n",
    "        print(os.path.join(dirname, filename))\n",
    "\n",
    "# You can write up to 20GB to the current directory (/kaggle/working/) that gets preserved as output when you create a version using \"Save & Run All\" \n",
    "# You can also write temporary files to /kaggle/temp/, but they won't be saved outside of the current session"
   ]
  },
  {
   "cell_type": "code",
   "execution_count": 2,
   "id": "6b3e5005",
   "metadata": {
    "execution": {
     "iopub.execute_input": "2024-06-02T23:06:21.591349Z",
     "iopub.status.busy": "2024-06-02T23:06:21.590677Z",
     "iopub.status.idle": "2024-06-02T23:06:21.596293Z",
     "shell.execute_reply": "2024-06-02T23:06:21.595165Z"
    },
    "papermill": {
     "duration": 0.02614,
     "end_time": "2024-06-02T23:06:21.599018",
     "exception": false,
     "start_time": "2024-06-02T23:06:21.572878",
     "status": "completed"
    },
    "tags": []
   },
   "outputs": [],
   "source": [
    "import numpy as np\n",
    "import pandas as pd"
   ]
  },
  {
   "cell_type": "code",
   "execution_count": 3,
   "id": "c07e6588",
   "metadata": {
    "execution": {
     "iopub.execute_input": "2024-06-02T23:06:21.634363Z",
     "iopub.status.busy": "2024-06-02T23:06:21.633749Z",
     "iopub.status.idle": "2024-06-02T23:06:22.866703Z",
     "shell.execute_reply": "2024-06-02T23:06:22.865280Z"
    },
    "papermill": {
     "duration": 1.25474,
     "end_time": "2024-06-02T23:06:22.870213",
     "exception": false,
     "start_time": "2024-06-02T23:06:21.615473",
     "status": "completed"
    },
    "tags": []
   },
   "outputs": [],
   "source": [
    "movies = pd.read_csv(\"/kaggle/input/tmdb-movie-metadata/tmdb_5000_movies.csv\")\n",
    "credits = pd.read_csv(\"/kaggle/input/tmdb-movie-metadata/tmdb_5000_credits.csv\")"
   ]
  },
  {
   "cell_type": "code",
   "execution_count": 4,
   "id": "5b11bfd6",
   "metadata": {
    "execution": {
     "iopub.execute_input": "2024-06-02T23:06:22.905459Z",
     "iopub.status.busy": "2024-06-02T23:06:22.905045Z",
     "iopub.status.idle": "2024-06-02T23:06:22.948676Z",
     "shell.execute_reply": "2024-06-02T23:06:22.947371Z"
    },
    "papermill": {
     "duration": 0.063791,
     "end_time": "2024-06-02T23:06:22.951404",
     "exception": false,
     "start_time": "2024-06-02T23:06:22.887613",
     "status": "completed"
    },
    "tags": []
   },
   "outputs": [
    {
     "data": {
      "text/html": [
       "<div>\n",
       "<style scoped>\n",
       "    .dataframe tbody tr th:only-of-type {\n",
       "        vertical-align: middle;\n",
       "    }\n",
       "\n",
       "    .dataframe tbody tr th {\n",
       "        vertical-align: top;\n",
       "    }\n",
       "\n",
       "    .dataframe thead th {\n",
       "        text-align: right;\n",
       "    }\n",
       "</style>\n",
       "<table border=\"1\" class=\"dataframe\">\n",
       "  <thead>\n",
       "    <tr style=\"text-align: right;\">\n",
       "      <th></th>\n",
       "      <th>budget</th>\n",
       "      <th>genres</th>\n",
       "      <th>homepage</th>\n",
       "      <th>id</th>\n",
       "      <th>keywords</th>\n",
       "      <th>original_language</th>\n",
       "      <th>original_title</th>\n",
       "      <th>overview</th>\n",
       "      <th>popularity</th>\n",
       "      <th>production_companies</th>\n",
       "      <th>production_countries</th>\n",
       "      <th>release_date</th>\n",
       "      <th>revenue</th>\n",
       "      <th>runtime</th>\n",
       "      <th>spoken_languages</th>\n",
       "      <th>status</th>\n",
       "      <th>tagline</th>\n",
       "      <th>title</th>\n",
       "      <th>vote_average</th>\n",
       "      <th>vote_count</th>\n",
       "    </tr>\n",
       "  </thead>\n",
       "  <tbody>\n",
       "    <tr>\n",
       "      <th>0</th>\n",
       "      <td>237000000</td>\n",
       "      <td>[{\"id\": 28, \"name\": \"Action\"}, {\"id\": 12, \"nam...</td>\n",
       "      <td>http://www.avatarmovie.com/</td>\n",
       "      <td>19995</td>\n",
       "      <td>[{\"id\": 1463, \"name\": \"culture clash\"}, {\"id\":...</td>\n",
       "      <td>en</td>\n",
       "      <td>Avatar</td>\n",
       "      <td>In the 22nd century, a paraplegic Marine is di...</td>\n",
       "      <td>150.437577</td>\n",
       "      <td>[{\"name\": \"Ingenious Film Partners\", \"id\": 289...</td>\n",
       "      <td>[{\"iso_3166_1\": \"US\", \"name\": \"United States o...</td>\n",
       "      <td>2009-12-10</td>\n",
       "      <td>2787965087</td>\n",
       "      <td>162.0</td>\n",
       "      <td>[{\"iso_639_1\": \"en\", \"name\": \"English\"}, {\"iso...</td>\n",
       "      <td>Released</td>\n",
       "      <td>Enter the World of Pandora.</td>\n",
       "      <td>Avatar</td>\n",
       "      <td>7.2</td>\n",
       "      <td>11800</td>\n",
       "    </tr>\n",
       "    <tr>\n",
       "      <th>1</th>\n",
       "      <td>300000000</td>\n",
       "      <td>[{\"id\": 12, \"name\": \"Adventure\"}, {\"id\": 14, \"...</td>\n",
       "      <td>http://disney.go.com/disneypictures/pirates/</td>\n",
       "      <td>285</td>\n",
       "      <td>[{\"id\": 270, \"name\": \"ocean\"}, {\"id\": 726, \"na...</td>\n",
       "      <td>en</td>\n",
       "      <td>Pirates of the Caribbean: At World's End</td>\n",
       "      <td>Captain Barbossa, long believed to be dead, ha...</td>\n",
       "      <td>139.082615</td>\n",
       "      <td>[{\"name\": \"Walt Disney Pictures\", \"id\": 2}, {\"...</td>\n",
       "      <td>[{\"iso_3166_1\": \"US\", \"name\": \"United States o...</td>\n",
       "      <td>2007-05-19</td>\n",
       "      <td>961000000</td>\n",
       "      <td>169.0</td>\n",
       "      <td>[{\"iso_639_1\": \"en\", \"name\": \"English\"}]</td>\n",
       "      <td>Released</td>\n",
       "      <td>At the end of the world, the adventure begins.</td>\n",
       "      <td>Pirates of the Caribbean: At World's End</td>\n",
       "      <td>6.9</td>\n",
       "      <td>4500</td>\n",
       "    </tr>\n",
       "    <tr>\n",
       "      <th>2</th>\n",
       "      <td>245000000</td>\n",
       "      <td>[{\"id\": 28, \"name\": \"Action\"}, {\"id\": 12, \"nam...</td>\n",
       "      <td>http://www.sonypictures.com/movies/spectre/</td>\n",
       "      <td>206647</td>\n",
       "      <td>[{\"id\": 470, \"name\": \"spy\"}, {\"id\": 818, \"name...</td>\n",
       "      <td>en</td>\n",
       "      <td>Spectre</td>\n",
       "      <td>A cryptic message from Bond’s past sends him o...</td>\n",
       "      <td>107.376788</td>\n",
       "      <td>[{\"name\": \"Columbia Pictures\", \"id\": 5}, {\"nam...</td>\n",
       "      <td>[{\"iso_3166_1\": \"GB\", \"name\": \"United Kingdom\"...</td>\n",
       "      <td>2015-10-26</td>\n",
       "      <td>880674609</td>\n",
       "      <td>148.0</td>\n",
       "      <td>[{\"iso_639_1\": \"fr\", \"name\": \"Fran\\u00e7ais\"},...</td>\n",
       "      <td>Released</td>\n",
       "      <td>A Plan No One Escapes</td>\n",
       "      <td>Spectre</td>\n",
       "      <td>6.3</td>\n",
       "      <td>4466</td>\n",
       "    </tr>\n",
       "    <tr>\n",
       "      <th>3</th>\n",
       "      <td>250000000</td>\n",
       "      <td>[{\"id\": 28, \"name\": \"Action\"}, {\"id\": 80, \"nam...</td>\n",
       "      <td>http://www.thedarkknightrises.com/</td>\n",
       "      <td>49026</td>\n",
       "      <td>[{\"id\": 849, \"name\": \"dc comics\"}, {\"id\": 853,...</td>\n",
       "      <td>en</td>\n",
       "      <td>The Dark Knight Rises</td>\n",
       "      <td>Following the death of District Attorney Harve...</td>\n",
       "      <td>112.312950</td>\n",
       "      <td>[{\"name\": \"Legendary Pictures\", \"id\": 923}, {\"...</td>\n",
       "      <td>[{\"iso_3166_1\": \"US\", \"name\": \"United States o...</td>\n",
       "      <td>2012-07-16</td>\n",
       "      <td>1084939099</td>\n",
       "      <td>165.0</td>\n",
       "      <td>[{\"iso_639_1\": \"en\", \"name\": \"English\"}]</td>\n",
       "      <td>Released</td>\n",
       "      <td>The Legend Ends</td>\n",
       "      <td>The Dark Knight Rises</td>\n",
       "      <td>7.6</td>\n",
       "      <td>9106</td>\n",
       "    </tr>\n",
       "    <tr>\n",
       "      <th>4</th>\n",
       "      <td>260000000</td>\n",
       "      <td>[{\"id\": 28, \"name\": \"Action\"}, {\"id\": 12, \"nam...</td>\n",
       "      <td>http://movies.disney.com/john-carter</td>\n",
       "      <td>49529</td>\n",
       "      <td>[{\"id\": 818, \"name\": \"based on novel\"}, {\"id\":...</td>\n",
       "      <td>en</td>\n",
       "      <td>John Carter</td>\n",
       "      <td>John Carter is a war-weary, former military ca...</td>\n",
       "      <td>43.926995</td>\n",
       "      <td>[{\"name\": \"Walt Disney Pictures\", \"id\": 2}]</td>\n",
       "      <td>[{\"iso_3166_1\": \"US\", \"name\": \"United States o...</td>\n",
       "      <td>2012-03-07</td>\n",
       "      <td>284139100</td>\n",
       "      <td>132.0</td>\n",
       "      <td>[{\"iso_639_1\": \"en\", \"name\": \"English\"}]</td>\n",
       "      <td>Released</td>\n",
       "      <td>Lost in our world, found in another.</td>\n",
       "      <td>John Carter</td>\n",
       "      <td>6.1</td>\n",
       "      <td>2124</td>\n",
       "    </tr>\n",
       "  </tbody>\n",
       "</table>\n",
       "</div>"
      ],
      "text/plain": [
       "      budget                                             genres  \\\n",
       "0  237000000  [{\"id\": 28, \"name\": \"Action\"}, {\"id\": 12, \"nam...   \n",
       "1  300000000  [{\"id\": 12, \"name\": \"Adventure\"}, {\"id\": 14, \"...   \n",
       "2  245000000  [{\"id\": 28, \"name\": \"Action\"}, {\"id\": 12, \"nam...   \n",
       "3  250000000  [{\"id\": 28, \"name\": \"Action\"}, {\"id\": 80, \"nam...   \n",
       "4  260000000  [{\"id\": 28, \"name\": \"Action\"}, {\"id\": 12, \"nam...   \n",
       "\n",
       "                                       homepage      id  \\\n",
       "0                   http://www.avatarmovie.com/   19995   \n",
       "1  http://disney.go.com/disneypictures/pirates/     285   \n",
       "2   http://www.sonypictures.com/movies/spectre/  206647   \n",
       "3            http://www.thedarkknightrises.com/   49026   \n",
       "4          http://movies.disney.com/john-carter   49529   \n",
       "\n",
       "                                            keywords original_language  \\\n",
       "0  [{\"id\": 1463, \"name\": \"culture clash\"}, {\"id\":...                en   \n",
       "1  [{\"id\": 270, \"name\": \"ocean\"}, {\"id\": 726, \"na...                en   \n",
       "2  [{\"id\": 470, \"name\": \"spy\"}, {\"id\": 818, \"name...                en   \n",
       "3  [{\"id\": 849, \"name\": \"dc comics\"}, {\"id\": 853,...                en   \n",
       "4  [{\"id\": 818, \"name\": \"based on novel\"}, {\"id\":...                en   \n",
       "\n",
       "                             original_title  \\\n",
       "0                                    Avatar   \n",
       "1  Pirates of the Caribbean: At World's End   \n",
       "2                                   Spectre   \n",
       "3                     The Dark Knight Rises   \n",
       "4                               John Carter   \n",
       "\n",
       "                                            overview  popularity  \\\n",
       "0  In the 22nd century, a paraplegic Marine is di...  150.437577   \n",
       "1  Captain Barbossa, long believed to be dead, ha...  139.082615   \n",
       "2  A cryptic message from Bond’s past sends him o...  107.376788   \n",
       "3  Following the death of District Attorney Harve...  112.312950   \n",
       "4  John Carter is a war-weary, former military ca...   43.926995   \n",
       "\n",
       "                                production_companies  \\\n",
       "0  [{\"name\": \"Ingenious Film Partners\", \"id\": 289...   \n",
       "1  [{\"name\": \"Walt Disney Pictures\", \"id\": 2}, {\"...   \n",
       "2  [{\"name\": \"Columbia Pictures\", \"id\": 5}, {\"nam...   \n",
       "3  [{\"name\": \"Legendary Pictures\", \"id\": 923}, {\"...   \n",
       "4        [{\"name\": \"Walt Disney Pictures\", \"id\": 2}]   \n",
       "\n",
       "                                production_countries release_date     revenue  \\\n",
       "0  [{\"iso_3166_1\": \"US\", \"name\": \"United States o...   2009-12-10  2787965087   \n",
       "1  [{\"iso_3166_1\": \"US\", \"name\": \"United States o...   2007-05-19   961000000   \n",
       "2  [{\"iso_3166_1\": \"GB\", \"name\": \"United Kingdom\"...   2015-10-26   880674609   \n",
       "3  [{\"iso_3166_1\": \"US\", \"name\": \"United States o...   2012-07-16  1084939099   \n",
       "4  [{\"iso_3166_1\": \"US\", \"name\": \"United States o...   2012-03-07   284139100   \n",
       "\n",
       "   runtime                                   spoken_languages    status  \\\n",
       "0    162.0  [{\"iso_639_1\": \"en\", \"name\": \"English\"}, {\"iso...  Released   \n",
       "1    169.0           [{\"iso_639_1\": \"en\", \"name\": \"English\"}]  Released   \n",
       "2    148.0  [{\"iso_639_1\": \"fr\", \"name\": \"Fran\\u00e7ais\"},...  Released   \n",
       "3    165.0           [{\"iso_639_1\": \"en\", \"name\": \"English\"}]  Released   \n",
       "4    132.0           [{\"iso_639_1\": \"en\", \"name\": \"English\"}]  Released   \n",
       "\n",
       "                                          tagline  \\\n",
       "0                     Enter the World of Pandora.   \n",
       "1  At the end of the world, the adventure begins.   \n",
       "2                           A Plan No One Escapes   \n",
       "3                                 The Legend Ends   \n",
       "4            Lost in our world, found in another.   \n",
       "\n",
       "                                      title  vote_average  vote_count  \n",
       "0                                    Avatar           7.2       11800  \n",
       "1  Pirates of the Caribbean: At World's End           6.9        4500  \n",
       "2                                   Spectre           6.3        4466  \n",
       "3                     The Dark Knight Rises           7.6        9106  \n",
       "4                               John Carter           6.1        2124  "
      ]
     },
     "execution_count": 4,
     "metadata": {},
     "output_type": "execute_result"
    }
   ],
   "source": [
    "movies.head()"
   ]
  },
  {
   "cell_type": "code",
   "execution_count": 5,
   "id": "886f42a9",
   "metadata": {
    "execution": {
     "iopub.execute_input": "2024-06-02T23:06:22.985984Z",
     "iopub.status.busy": "2024-06-02T23:06:22.985520Z",
     "iopub.status.idle": "2024-06-02T23:06:23.001777Z",
     "shell.execute_reply": "2024-06-02T23:06:22.999663Z"
    },
    "papermill": {
     "duration": 0.040586,
     "end_time": "2024-06-02T23:06:23.007970",
     "exception": false,
     "start_time": "2024-06-02T23:06:22.967384",
     "status": "completed"
    },
    "tags": []
   },
   "outputs": [
    {
     "data": {
      "text/html": [
       "<div>\n",
       "<style scoped>\n",
       "    .dataframe tbody tr th:only-of-type {\n",
       "        vertical-align: middle;\n",
       "    }\n",
       "\n",
       "    .dataframe tbody tr th {\n",
       "        vertical-align: top;\n",
       "    }\n",
       "\n",
       "    .dataframe thead th {\n",
       "        text-align: right;\n",
       "    }\n",
       "</style>\n",
       "<table border=\"1\" class=\"dataframe\">\n",
       "  <thead>\n",
       "    <tr style=\"text-align: right;\">\n",
       "      <th></th>\n",
       "      <th>movie_id</th>\n",
       "      <th>title</th>\n",
       "      <th>cast</th>\n",
       "      <th>crew</th>\n",
       "    </tr>\n",
       "  </thead>\n",
       "  <tbody>\n",
       "    <tr>\n",
       "      <th>0</th>\n",
       "      <td>19995</td>\n",
       "      <td>Avatar</td>\n",
       "      <td>[{\"cast_id\": 242, \"character\": \"Jake Sully\", \"...</td>\n",
       "      <td>[{\"credit_id\": \"52fe48009251416c750aca23\", \"de...</td>\n",
       "    </tr>\n",
       "    <tr>\n",
       "      <th>1</th>\n",
       "      <td>285</td>\n",
       "      <td>Pirates of the Caribbean: At World's End</td>\n",
       "      <td>[{\"cast_id\": 4, \"character\": \"Captain Jack Spa...</td>\n",
       "      <td>[{\"credit_id\": \"52fe4232c3a36847f800b579\", \"de...</td>\n",
       "    </tr>\n",
       "    <tr>\n",
       "      <th>2</th>\n",
       "      <td>206647</td>\n",
       "      <td>Spectre</td>\n",
       "      <td>[{\"cast_id\": 1, \"character\": \"James Bond\", \"cr...</td>\n",
       "      <td>[{\"credit_id\": \"54805967c3a36829b5002c41\", \"de...</td>\n",
       "    </tr>\n",
       "    <tr>\n",
       "      <th>3</th>\n",
       "      <td>49026</td>\n",
       "      <td>The Dark Knight Rises</td>\n",
       "      <td>[{\"cast_id\": 2, \"character\": \"Bruce Wayne / Ba...</td>\n",
       "      <td>[{\"credit_id\": \"52fe4781c3a36847f81398c3\", \"de...</td>\n",
       "    </tr>\n",
       "    <tr>\n",
       "      <th>4</th>\n",
       "      <td>49529</td>\n",
       "      <td>John Carter</td>\n",
       "      <td>[{\"cast_id\": 5, \"character\": \"John Carter\", \"c...</td>\n",
       "      <td>[{\"credit_id\": \"52fe479ac3a36847f813eaa3\", \"de...</td>\n",
       "    </tr>\n",
       "  </tbody>\n",
       "</table>\n",
       "</div>"
      ],
      "text/plain": [
       "   movie_id                                     title  \\\n",
       "0     19995                                    Avatar   \n",
       "1       285  Pirates of the Caribbean: At World's End   \n",
       "2    206647                                   Spectre   \n",
       "3     49026                     The Dark Knight Rises   \n",
       "4     49529                               John Carter   \n",
       "\n",
       "                                                cast  \\\n",
       "0  [{\"cast_id\": 242, \"character\": \"Jake Sully\", \"...   \n",
       "1  [{\"cast_id\": 4, \"character\": \"Captain Jack Spa...   \n",
       "2  [{\"cast_id\": 1, \"character\": \"James Bond\", \"cr...   \n",
       "3  [{\"cast_id\": 2, \"character\": \"Bruce Wayne / Ba...   \n",
       "4  [{\"cast_id\": 5, \"character\": \"John Carter\", \"c...   \n",
       "\n",
       "                                                crew  \n",
       "0  [{\"credit_id\": \"52fe48009251416c750aca23\", \"de...  \n",
       "1  [{\"credit_id\": \"52fe4232c3a36847f800b579\", \"de...  \n",
       "2  [{\"credit_id\": \"54805967c3a36829b5002c41\", \"de...  \n",
       "3  [{\"credit_id\": \"52fe4781c3a36847f81398c3\", \"de...  \n",
       "4  [{\"credit_id\": \"52fe479ac3a36847f813eaa3\", \"de...  "
      ]
     },
     "execution_count": 5,
     "metadata": {},
     "output_type": "execute_result"
    }
   ],
   "source": [
    "credits.head()"
   ]
  },
  {
   "cell_type": "code",
   "execution_count": 6,
   "id": "7dd6afb6",
   "metadata": {
    "execution": {
     "iopub.execute_input": "2024-06-02T23:06:23.043737Z",
     "iopub.status.busy": "2024-06-02T23:06:23.043321Z",
     "iopub.status.idle": "2024-06-02T23:06:23.073496Z",
     "shell.execute_reply": "2024-06-02T23:06:23.072306Z"
    },
    "papermill": {
     "duration": 0.051602,
     "end_time": "2024-06-02T23:06:23.076489",
     "exception": false,
     "start_time": "2024-06-02T23:06:23.024887",
     "status": "completed"
    },
    "tags": []
   },
   "outputs": [],
   "source": [
    "movies = movies.merge(credits, on = 'title')"
   ]
  },
  {
   "cell_type": "code",
   "execution_count": 7,
   "id": "72548d47",
   "metadata": {
    "execution": {
     "iopub.execute_input": "2024-06-02T23:06:23.112634Z",
     "iopub.status.busy": "2024-06-02T23:06:23.111831Z",
     "iopub.status.idle": "2024-06-02T23:06:23.120522Z",
     "shell.execute_reply": "2024-06-02T23:06:23.119121Z"
    },
    "papermill": {
     "duration": 0.029992,
     "end_time": "2024-06-02T23:06:23.123299",
     "exception": false,
     "start_time": "2024-06-02T23:06:23.093307",
     "status": "completed"
    },
    "tags": []
   },
   "outputs": [],
   "source": [
    "#selecting specific columns for that are deemed necessary\n",
    "movies = movies[['id', 'title','overview', 'genres', 'keywords', 'cast', 'crew']]"
   ]
  },
  {
   "cell_type": "code",
   "execution_count": 8,
   "id": "1483b113",
   "metadata": {
    "execution": {
     "iopub.execute_input": "2024-06-02T23:06:23.159168Z",
     "iopub.status.busy": "2024-06-02T23:06:23.158721Z",
     "iopub.status.idle": "2024-06-02T23:06:23.175677Z",
     "shell.execute_reply": "2024-06-02T23:06:23.174319Z"
    },
    "papermill": {
     "duration": 0.037992,
     "end_time": "2024-06-02T23:06:23.178197",
     "exception": false,
     "start_time": "2024-06-02T23:06:23.140205",
     "status": "completed"
    },
    "tags": []
   },
   "outputs": [
    {
     "data": {
      "text/html": [
       "<div>\n",
       "<style scoped>\n",
       "    .dataframe tbody tr th:only-of-type {\n",
       "        vertical-align: middle;\n",
       "    }\n",
       "\n",
       "    .dataframe tbody tr th {\n",
       "        vertical-align: top;\n",
       "    }\n",
       "\n",
       "    .dataframe thead th {\n",
       "        text-align: right;\n",
       "    }\n",
       "</style>\n",
       "<table border=\"1\" class=\"dataframe\">\n",
       "  <thead>\n",
       "    <tr style=\"text-align: right;\">\n",
       "      <th></th>\n",
       "      <th>id</th>\n",
       "      <th>title</th>\n",
       "      <th>overview</th>\n",
       "      <th>genres</th>\n",
       "      <th>keywords</th>\n",
       "      <th>cast</th>\n",
       "      <th>crew</th>\n",
       "    </tr>\n",
       "  </thead>\n",
       "  <tbody>\n",
       "    <tr>\n",
       "      <th>0</th>\n",
       "      <td>19995</td>\n",
       "      <td>Avatar</td>\n",
       "      <td>In the 22nd century, a paraplegic Marine is di...</td>\n",
       "      <td>[{\"id\": 28, \"name\": \"Action\"}, {\"id\": 12, \"nam...</td>\n",
       "      <td>[{\"id\": 1463, \"name\": \"culture clash\"}, {\"id\":...</td>\n",
       "      <td>[{\"cast_id\": 242, \"character\": \"Jake Sully\", \"...</td>\n",
       "      <td>[{\"credit_id\": \"52fe48009251416c750aca23\", \"de...</td>\n",
       "    </tr>\n",
       "    <tr>\n",
       "      <th>1</th>\n",
       "      <td>285</td>\n",
       "      <td>Pirates of the Caribbean: At World's End</td>\n",
       "      <td>Captain Barbossa, long believed to be dead, ha...</td>\n",
       "      <td>[{\"id\": 12, \"name\": \"Adventure\"}, {\"id\": 14, \"...</td>\n",
       "      <td>[{\"id\": 270, \"name\": \"ocean\"}, {\"id\": 726, \"na...</td>\n",
       "      <td>[{\"cast_id\": 4, \"character\": \"Captain Jack Spa...</td>\n",
       "      <td>[{\"credit_id\": \"52fe4232c3a36847f800b579\", \"de...</td>\n",
       "    </tr>\n",
       "    <tr>\n",
       "      <th>2</th>\n",
       "      <td>206647</td>\n",
       "      <td>Spectre</td>\n",
       "      <td>A cryptic message from Bond’s past sends him o...</td>\n",
       "      <td>[{\"id\": 28, \"name\": \"Action\"}, {\"id\": 12, \"nam...</td>\n",
       "      <td>[{\"id\": 470, \"name\": \"spy\"}, {\"id\": 818, \"name...</td>\n",
       "      <td>[{\"cast_id\": 1, \"character\": \"James Bond\", \"cr...</td>\n",
       "      <td>[{\"credit_id\": \"54805967c3a36829b5002c41\", \"de...</td>\n",
       "    </tr>\n",
       "    <tr>\n",
       "      <th>3</th>\n",
       "      <td>49026</td>\n",
       "      <td>The Dark Knight Rises</td>\n",
       "      <td>Following the death of District Attorney Harve...</td>\n",
       "      <td>[{\"id\": 28, \"name\": \"Action\"}, {\"id\": 80, \"nam...</td>\n",
       "      <td>[{\"id\": 849, \"name\": \"dc comics\"}, {\"id\": 853,...</td>\n",
       "      <td>[{\"cast_id\": 2, \"character\": \"Bruce Wayne / Ba...</td>\n",
       "      <td>[{\"credit_id\": \"52fe4781c3a36847f81398c3\", \"de...</td>\n",
       "    </tr>\n",
       "    <tr>\n",
       "      <th>4</th>\n",
       "      <td>49529</td>\n",
       "      <td>John Carter</td>\n",
       "      <td>John Carter is a war-weary, former military ca...</td>\n",
       "      <td>[{\"id\": 28, \"name\": \"Action\"}, {\"id\": 12, \"nam...</td>\n",
       "      <td>[{\"id\": 818, \"name\": \"based on novel\"}, {\"id\":...</td>\n",
       "      <td>[{\"cast_id\": 5, \"character\": \"John Carter\", \"c...</td>\n",
       "      <td>[{\"credit_id\": \"52fe479ac3a36847f813eaa3\", \"de...</td>\n",
       "    </tr>\n",
       "  </tbody>\n",
       "</table>\n",
       "</div>"
      ],
      "text/plain": [
       "       id                                     title  \\\n",
       "0   19995                                    Avatar   \n",
       "1     285  Pirates of the Caribbean: At World's End   \n",
       "2  206647                                   Spectre   \n",
       "3   49026                     The Dark Knight Rises   \n",
       "4   49529                               John Carter   \n",
       "\n",
       "                                            overview  \\\n",
       "0  In the 22nd century, a paraplegic Marine is di...   \n",
       "1  Captain Barbossa, long believed to be dead, ha...   \n",
       "2  A cryptic message from Bond’s past sends him o...   \n",
       "3  Following the death of District Attorney Harve...   \n",
       "4  John Carter is a war-weary, former military ca...   \n",
       "\n",
       "                                              genres  \\\n",
       "0  [{\"id\": 28, \"name\": \"Action\"}, {\"id\": 12, \"nam...   \n",
       "1  [{\"id\": 12, \"name\": \"Adventure\"}, {\"id\": 14, \"...   \n",
       "2  [{\"id\": 28, \"name\": \"Action\"}, {\"id\": 12, \"nam...   \n",
       "3  [{\"id\": 28, \"name\": \"Action\"}, {\"id\": 80, \"nam...   \n",
       "4  [{\"id\": 28, \"name\": \"Action\"}, {\"id\": 12, \"nam...   \n",
       "\n",
       "                                            keywords  \\\n",
       "0  [{\"id\": 1463, \"name\": \"culture clash\"}, {\"id\":...   \n",
       "1  [{\"id\": 270, \"name\": \"ocean\"}, {\"id\": 726, \"na...   \n",
       "2  [{\"id\": 470, \"name\": \"spy\"}, {\"id\": 818, \"name...   \n",
       "3  [{\"id\": 849, \"name\": \"dc comics\"}, {\"id\": 853,...   \n",
       "4  [{\"id\": 818, \"name\": \"based on novel\"}, {\"id\":...   \n",
       "\n",
       "                                                cast  \\\n",
       "0  [{\"cast_id\": 242, \"character\": \"Jake Sully\", \"...   \n",
       "1  [{\"cast_id\": 4, \"character\": \"Captain Jack Spa...   \n",
       "2  [{\"cast_id\": 1, \"character\": \"James Bond\", \"cr...   \n",
       "3  [{\"cast_id\": 2, \"character\": \"Bruce Wayne / Ba...   \n",
       "4  [{\"cast_id\": 5, \"character\": \"John Carter\", \"c...   \n",
       "\n",
       "                                                crew  \n",
       "0  [{\"credit_id\": \"52fe48009251416c750aca23\", \"de...  \n",
       "1  [{\"credit_id\": \"52fe4232c3a36847f800b579\", \"de...  \n",
       "2  [{\"credit_id\": \"54805967c3a36829b5002c41\", \"de...  \n",
       "3  [{\"credit_id\": \"52fe4781c3a36847f81398c3\", \"de...  \n",
       "4  [{\"credit_id\": \"52fe479ac3a36847f813eaa3\", \"de...  "
      ]
     },
     "execution_count": 8,
     "metadata": {},
     "output_type": "execute_result"
    }
   ],
   "source": [
    "movies.head()"
   ]
  },
  {
   "cell_type": "code",
   "execution_count": 9,
   "id": "3ae019d8",
   "metadata": {
    "execution": {
     "iopub.execute_input": "2024-06-02T23:06:23.214527Z",
     "iopub.status.busy": "2024-06-02T23:06:23.214073Z",
     "iopub.status.idle": "2024-06-02T23:06:23.230924Z",
     "shell.execute_reply": "2024-06-02T23:06:23.229507Z"
    },
    "papermill": {
     "duration": 0.038485,
     "end_time": "2024-06-02T23:06:23.233966",
     "exception": false,
     "start_time": "2024-06-02T23:06:23.195481",
     "status": "completed"
    },
    "tags": []
   },
   "outputs": [
    {
     "data": {
      "text/plain": [
       "id          0\n",
       "title       0\n",
       "overview    3\n",
       "genres      0\n",
       "keywords    0\n",
       "cast        0\n",
       "crew        0\n",
       "dtype: int64"
      ]
     },
     "execution_count": 9,
     "metadata": {},
     "output_type": "execute_result"
    }
   ],
   "source": [
    "movies.isnull().sum()"
   ]
  },
  {
   "cell_type": "code",
   "execution_count": 10,
   "id": "116234c5",
   "metadata": {
    "execution": {
     "iopub.execute_input": "2024-06-02T23:06:23.272329Z",
     "iopub.status.busy": "2024-06-02T23:06:23.271829Z",
     "iopub.status.idle": "2024-06-02T23:06:23.287914Z",
     "shell.execute_reply": "2024-06-02T23:06:23.286541Z"
    },
    "papermill": {
     "duration": 0.0377,
     "end_time": "2024-06-02T23:06:23.290929",
     "exception": false,
     "start_time": "2024-06-02T23:06:23.253229",
     "status": "completed"
    },
    "tags": []
   },
   "outputs": [],
   "source": [
    "movies.dropna(inplace= True)"
   ]
  },
  {
   "cell_type": "code",
   "execution_count": 11,
   "id": "2f1ccd12",
   "metadata": {
    "execution": {
     "iopub.execute_input": "2024-06-02T23:06:23.328179Z",
     "iopub.status.busy": "2024-06-02T23:06:23.327746Z",
     "iopub.status.idle": "2024-06-02T23:06:23.342073Z",
     "shell.execute_reply": "2024-06-02T23:06:23.340770Z"
    },
    "papermill": {
     "duration": 0.03549,
     "end_time": "2024-06-02T23:06:23.344636",
     "exception": false,
     "start_time": "2024-06-02T23:06:23.309146",
     "status": "completed"
    },
    "tags": []
   },
   "outputs": [
    {
     "data": {
      "text/plain": [
       "id          0\n",
       "title       0\n",
       "overview    0\n",
       "genres      0\n",
       "keywords    0\n",
       "cast        0\n",
       "crew        0\n",
       "dtype: int64"
      ]
     },
     "execution_count": 11,
     "metadata": {},
     "output_type": "execute_result"
    }
   ],
   "source": [
    "movies.isnull().sum()\n"
   ]
  },
  {
   "cell_type": "code",
   "execution_count": 12,
   "id": "c0cb50bc",
   "metadata": {
    "execution": {
     "iopub.execute_input": "2024-06-02T23:06:23.381065Z",
     "iopub.status.busy": "2024-06-02T23:06:23.380589Z",
     "iopub.status.idle": "2024-06-02T23:06:23.491174Z",
     "shell.execute_reply": "2024-06-02T23:06:23.490002Z"
    },
    "papermill": {
     "duration": 0.132377,
     "end_time": "2024-06-02T23:06:23.494208",
     "exception": false,
     "start_time": "2024-06-02T23:06:23.361831",
     "status": "completed"
    },
    "tags": []
   },
   "outputs": [
    {
     "data": {
      "text/plain": [
       "0"
      ]
     },
     "execution_count": 12,
     "metadata": {},
     "output_type": "execute_result"
    }
   ],
   "source": [
    "movies.duplicated().sum()"
   ]
  },
  {
   "cell_type": "code",
   "execution_count": 13,
   "id": "016c52ae",
   "metadata": {
    "execution": {
     "iopub.execute_input": "2024-06-02T23:06:23.531456Z",
     "iopub.status.busy": "2024-06-02T23:06:23.530967Z",
     "iopub.status.idle": "2024-06-02T23:06:23.539381Z",
     "shell.execute_reply": "2024-06-02T23:06:23.538180Z"
    },
    "papermill": {
     "duration": 0.030496,
     "end_time": "2024-06-02T23:06:23.542404",
     "exception": false,
     "start_time": "2024-06-02T23:06:23.511908",
     "status": "completed"
    },
    "tags": []
   },
   "outputs": [
    {
     "data": {
      "text/plain": [
       "'[{\"id\": 28, \"name\": \"Action\"}, {\"id\": 12, \"name\": \"Adventure\"}, {\"id\": 14, \"name\": \"Fantasy\"}, {\"id\": 878, \"name\": \"Science Fiction\"}]'"
      ]
     },
     "execution_count": 13,
     "metadata": {},
     "output_type": "execute_result"
    }
   ],
   "source": [
    "movies.iloc[0].genres"
   ]
  },
  {
   "cell_type": "code",
   "execution_count": 14,
   "id": "81450cb3",
   "metadata": {
    "execution": {
     "iopub.execute_input": "2024-06-02T23:06:23.581233Z",
     "iopub.status.busy": "2024-06-02T23:06:23.580093Z",
     "iopub.status.idle": "2024-06-02T23:06:23.585632Z",
     "shell.execute_reply": "2024-06-02T23:06:23.584443Z"
    },
    "papermill": {
     "duration": 0.02731,
     "end_time": "2024-06-02T23:06:23.588100",
     "exception": false,
     "start_time": "2024-06-02T23:06:23.560790",
     "status": "completed"
    },
    "tags": []
   },
   "outputs": [],
   "source": [
    "import ast"
   ]
  },
  {
   "cell_type": "code",
   "execution_count": 15,
   "id": "942da57d",
   "metadata": {
    "execution": {
     "iopub.execute_input": "2024-06-02T23:06:23.626629Z",
     "iopub.status.busy": "2024-06-02T23:06:23.625421Z",
     "iopub.status.idle": "2024-06-02T23:06:23.631673Z",
     "shell.execute_reply": "2024-06-02T23:06:23.630406Z"
    },
    "papermill": {
     "duration": 0.028894,
     "end_time": "2024-06-02T23:06:23.634724",
     "exception": false,
     "start_time": "2024-06-02T23:06:23.605830",
     "status": "completed"
    },
    "tags": []
   },
   "outputs": [],
   "source": [
    "def convert(obj):\n",
    "    c=[]\n",
    "    for i in ast.literal_eval(obj):\n",
    "        c.append(i['name'])\n",
    "    return c"
   ]
  },
  {
   "cell_type": "code",
   "execution_count": 16,
   "id": "cc9d40e2",
   "metadata": {
    "execution": {
     "iopub.execute_input": "2024-06-02T23:06:23.673230Z",
     "iopub.status.busy": "2024-06-02T23:06:23.672370Z",
     "iopub.status.idle": "2024-06-02T23:06:23.884942Z",
     "shell.execute_reply": "2024-06-02T23:06:23.883489Z"
    },
    "papermill": {
     "duration": 0.235614,
     "end_time": "2024-06-02T23:06:23.888146",
     "exception": false,
     "start_time": "2024-06-02T23:06:23.652532",
     "status": "completed"
    },
    "tags": []
   },
   "outputs": [],
   "source": [
    "movies['genres'] = movies['genres'].apply(convert)"
   ]
  },
  {
   "cell_type": "code",
   "execution_count": 17,
   "id": "6abae432",
   "metadata": {
    "execution": {
     "iopub.execute_input": "2024-06-02T23:06:23.927400Z",
     "iopub.status.busy": "2024-06-02T23:06:23.926918Z",
     "iopub.status.idle": "2024-06-02T23:06:23.934993Z",
     "shell.execute_reply": "2024-06-02T23:06:23.933941Z"
    },
    "papermill": {
     "duration": 0.030694,
     "end_time": "2024-06-02T23:06:23.938009",
     "exception": false,
     "start_time": "2024-06-02T23:06:23.907315",
     "status": "completed"
    },
    "tags": []
   },
   "outputs": [
    {
     "data": {
      "text/plain": [
       "'[{\"id\": 1463, \"name\": \"culture clash\"}, {\"id\": 2964, \"name\": \"future\"}, {\"id\": 3386, \"name\": \"space war\"}, {\"id\": 3388, \"name\": \"space colony\"}, {\"id\": 3679, \"name\": \"society\"}, {\"id\": 3801, \"name\": \"space travel\"}, {\"id\": 9685, \"name\": \"futuristic\"}, {\"id\": 9840, \"name\": \"romance\"}, {\"id\": 9882, \"name\": \"space\"}, {\"id\": 9951, \"name\": \"alien\"}, {\"id\": 10148, \"name\": \"tribe\"}, {\"id\": 10158, \"name\": \"alien planet\"}, {\"id\": 10987, \"name\": \"cgi\"}, {\"id\": 11399, \"name\": \"marine\"}, {\"id\": 13065, \"name\": \"soldier\"}, {\"id\": 14643, \"name\": \"battle\"}, {\"id\": 14720, \"name\": \"love affair\"}, {\"id\": 165431, \"name\": \"anti war\"}, {\"id\": 193554, \"name\": \"power relations\"}, {\"id\": 206690, \"name\": \"mind and soul\"}, {\"id\": 209714, \"name\": \"3d\"}]'"
      ]
     },
     "execution_count": 17,
     "metadata": {},
     "output_type": "execute_result"
    }
   ],
   "source": [
    "movies.iloc[0].keywords"
   ]
  },
  {
   "cell_type": "code",
   "execution_count": 18,
   "id": "e168f47e",
   "metadata": {
    "execution": {
     "iopub.execute_input": "2024-06-02T23:06:23.977554Z",
     "iopub.status.busy": "2024-06-02T23:06:23.976560Z",
     "iopub.status.idle": "2024-06-02T23:06:24.565877Z",
     "shell.execute_reply": "2024-06-02T23:06:24.564463Z"
    },
    "papermill": {
     "duration": 0.612888,
     "end_time": "2024-06-02T23:06:24.569251",
     "exception": false,
     "start_time": "2024-06-02T23:06:23.956363",
     "status": "completed"
    },
    "tags": []
   },
   "outputs": [
    {
     "data": {
      "text/plain": [
       "0       [culture clash, future, space war, space colon...\n",
       "1       [ocean, drug abuse, exotic island, east india ...\n",
       "2       [spy, based on novel, secret agent, sequel, mi...\n",
       "3       [dc comics, crime fighter, terrorist, secret i...\n",
       "4       [based on novel, mars, medallion, space travel...\n",
       "                              ...                        \n",
       "4804    [united states–mexico barrier, legs, arms, pap...\n",
       "4805                                                   []\n",
       "4806    [date, love at first sight, narration, investi...\n",
       "4807                                                   []\n",
       "4808            [obsession, camcorder, crush, dream girl]\n",
       "Name: keywords, Length: 4806, dtype: object"
      ]
     },
     "execution_count": 18,
     "metadata": {},
     "output_type": "execute_result"
    }
   ],
   "source": [
    "movies['keywords'].apply(convert)"
   ]
  },
  {
   "cell_type": "code",
   "execution_count": 19,
   "id": "1fe483d7",
   "metadata": {
    "execution": {
     "iopub.execute_input": "2024-06-02T23:06:24.613239Z",
     "iopub.status.busy": "2024-06-02T23:06:24.612089Z",
     "iopub.status.idle": "2024-06-02T23:06:25.160538Z",
     "shell.execute_reply": "2024-06-02T23:06:25.159211Z"
    },
    "papermill": {
     "duration": 0.571637,
     "end_time": "2024-06-02T23:06:25.163605",
     "exception": false,
     "start_time": "2024-06-02T23:06:24.591968",
     "status": "completed"
    },
    "tags": []
   },
   "outputs": [],
   "source": [
    "movies['keywords'] = movies['keywords'].apply(convert)"
   ]
  },
  {
   "cell_type": "code",
   "execution_count": 20,
   "id": "001fec76",
   "metadata": {
    "execution": {
     "iopub.execute_input": "2024-06-02T23:06:25.201735Z",
     "iopub.status.busy": "2024-06-02T23:06:25.201228Z",
     "iopub.status.idle": "2024-06-02T23:06:25.208588Z",
     "shell.execute_reply": "2024-06-02T23:06:25.207300Z"
    },
    "papermill": {
     "duration": 0.029672,
     "end_time": "2024-06-02T23:06:25.211369",
     "exception": false,
     "start_time": "2024-06-02T23:06:25.181697",
     "status": "completed"
    },
    "tags": []
   },
   "outputs": [],
   "source": [
    "def convert3(obj):\n",
    "    c=[]\n",
    "    counter = 0\n",
    "    for i in ast.literal_eval(obj):\n",
    "        if counter != 3:\n",
    "            c.append(i['name'])\n",
    "            counter+=1\n",
    "        else:\n",
    "            break\n",
    "    return c"
   ]
  },
  {
   "cell_type": "code",
   "execution_count": 21,
   "id": "7f6dfb5b",
   "metadata": {
    "execution": {
     "iopub.execute_input": "2024-06-02T23:06:25.250059Z",
     "iopub.status.busy": "2024-06-02T23:06:25.249612Z",
     "iopub.status.idle": "2024-06-02T23:06:29.485972Z",
     "shell.execute_reply": "2024-06-02T23:06:29.484780Z"
    },
    "papermill": {
     "duration": 4.259074,
     "end_time": "2024-06-02T23:06:29.488913",
     "exception": false,
     "start_time": "2024-06-02T23:06:25.229839",
     "status": "completed"
    },
    "tags": []
   },
   "outputs": [
    {
     "data": {
      "text/plain": [
       "0        [Sam Worthington, Zoe Saldana, Sigourney Weaver]\n",
       "1           [Johnny Depp, Orlando Bloom, Keira Knightley]\n",
       "2            [Daniel Craig, Christoph Waltz, Léa Seydoux]\n",
       "3            [Christian Bale, Michael Caine, Gary Oldman]\n",
       "4          [Taylor Kitsch, Lynn Collins, Samantha Morton]\n",
       "                              ...                        \n",
       "4804    [Carlos Gallardo, Jaime de Hoyos, Peter Marqua...\n",
       "4805         [Edward Burns, Kerry Bishé, Marsha Dietlein]\n",
       "4806           [Eric Mabius, Kristin Booth, Crystal Lowe]\n",
       "4807            [Daniel Henney, Eliza Coupe, Bill Paxton]\n",
       "4808    [Drew Barrymore, Brian Herzlinger, Corey Feldman]\n",
       "Name: cast, Length: 4806, dtype: object"
      ]
     },
     "execution_count": 21,
     "metadata": {},
     "output_type": "execute_result"
    }
   ],
   "source": [
    "movies['cast'].apply(convert3)"
   ]
  },
  {
   "cell_type": "code",
   "execution_count": 22,
   "id": "3a4e212c",
   "metadata": {
    "execution": {
     "iopub.execute_input": "2024-06-02T23:06:29.619903Z",
     "iopub.status.busy": "2024-06-02T23:06:29.619461Z",
     "iopub.status.idle": "2024-06-02T23:06:33.845367Z",
     "shell.execute_reply": "2024-06-02T23:06:33.844125Z"
    },
    "papermill": {
     "duration": 4.340872,
     "end_time": "2024-06-02T23:06:33.848211",
     "exception": false,
     "start_time": "2024-06-02T23:06:29.507339",
     "status": "completed"
    },
    "tags": []
   },
   "outputs": [],
   "source": [
    "movies['cast'] = movies['cast'].apply(convert3)"
   ]
  },
  {
   "cell_type": "code",
   "execution_count": 23,
   "id": "32aa10fd",
   "metadata": {
    "execution": {
     "iopub.execute_input": "2024-06-02T23:06:33.886067Z",
     "iopub.status.busy": "2024-06-02T23:06:33.885661Z",
     "iopub.status.idle": "2024-06-02T23:06:33.892073Z",
     "shell.execute_reply": "2024-06-02T23:06:33.890951Z"
    },
    "papermill": {
     "duration": 0.028078,
     "end_time": "2024-06-02T23:06:33.894634",
     "exception": false,
     "start_time": "2024-06-02T23:06:33.866556",
     "status": "completed"
    },
    "tags": []
   },
   "outputs": [],
   "source": [
    "def fetch_director(obj):\n",
    "    c=[]\n",
    "    for i in ast.literal_eval(obj):\n",
    "        if i['job'] == 'Director':\n",
    "            c.append(i['name'])\n",
    "            break\n",
    "    return c"
   ]
  },
  {
   "cell_type": "code",
   "execution_count": 24,
   "id": "c2aade07",
   "metadata": {
    "execution": {
     "iopub.execute_input": "2024-06-02T23:06:33.933657Z",
     "iopub.status.busy": "2024-06-02T23:06:33.933197Z",
     "iopub.status.idle": "2024-06-02T23:06:38.736065Z",
     "shell.execute_reply": "2024-06-02T23:06:38.734822Z"
    },
    "papermill": {
     "duration": 4.826212,
     "end_time": "2024-06-02T23:06:38.739210",
     "exception": false,
     "start_time": "2024-06-02T23:06:33.912998",
     "status": "completed"
    },
    "tags": []
   },
   "outputs": [],
   "source": [
    "movies['crew'] = movies['crew'].apply(fetch_director)"
   ]
  },
  {
   "cell_type": "code",
   "execution_count": 25,
   "id": "563c4f46",
   "metadata": {
    "execution": {
     "iopub.execute_input": "2024-06-02T23:06:38.777800Z",
     "iopub.status.busy": "2024-06-02T23:06:38.777341Z",
     "iopub.status.idle": "2024-06-02T23:06:38.803122Z",
     "shell.execute_reply": "2024-06-02T23:06:38.801826Z"
    },
    "papermill": {
     "duration": 0.048067,
     "end_time": "2024-06-02T23:06:38.805762",
     "exception": false,
     "start_time": "2024-06-02T23:06:38.757695",
     "status": "completed"
    },
    "tags": []
   },
   "outputs": [
    {
     "data": {
      "text/html": [
       "<div>\n",
       "<style scoped>\n",
       "    .dataframe tbody tr th:only-of-type {\n",
       "        vertical-align: middle;\n",
       "    }\n",
       "\n",
       "    .dataframe tbody tr th {\n",
       "        vertical-align: top;\n",
       "    }\n",
       "\n",
       "    .dataframe thead th {\n",
       "        text-align: right;\n",
       "    }\n",
       "</style>\n",
       "<table border=\"1\" class=\"dataframe\">\n",
       "  <thead>\n",
       "    <tr style=\"text-align: right;\">\n",
       "      <th></th>\n",
       "      <th>id</th>\n",
       "      <th>title</th>\n",
       "      <th>overview</th>\n",
       "      <th>genres</th>\n",
       "      <th>keywords</th>\n",
       "      <th>cast</th>\n",
       "      <th>crew</th>\n",
       "    </tr>\n",
       "  </thead>\n",
       "  <tbody>\n",
       "    <tr>\n",
       "      <th>0</th>\n",
       "      <td>19995</td>\n",
       "      <td>Avatar</td>\n",
       "      <td>In the 22nd century, a paraplegic Marine is di...</td>\n",
       "      <td>[Action, Adventure, Fantasy, Science Fiction]</td>\n",
       "      <td>[culture clash, future, space war, space colon...</td>\n",
       "      <td>[Sam Worthington, Zoe Saldana, Sigourney Weaver]</td>\n",
       "      <td>[James Cameron]</td>\n",
       "    </tr>\n",
       "    <tr>\n",
       "      <th>1</th>\n",
       "      <td>285</td>\n",
       "      <td>Pirates of the Caribbean: At World's End</td>\n",
       "      <td>Captain Barbossa, long believed to be dead, ha...</td>\n",
       "      <td>[Adventure, Fantasy, Action]</td>\n",
       "      <td>[ocean, drug abuse, exotic island, east india ...</td>\n",
       "      <td>[Johnny Depp, Orlando Bloom, Keira Knightley]</td>\n",
       "      <td>[Gore Verbinski]</td>\n",
       "    </tr>\n",
       "    <tr>\n",
       "      <th>2</th>\n",
       "      <td>206647</td>\n",
       "      <td>Spectre</td>\n",
       "      <td>A cryptic message from Bond’s past sends him o...</td>\n",
       "      <td>[Action, Adventure, Crime]</td>\n",
       "      <td>[spy, based on novel, secret agent, sequel, mi...</td>\n",
       "      <td>[Daniel Craig, Christoph Waltz, Léa Seydoux]</td>\n",
       "      <td>[Sam Mendes]</td>\n",
       "    </tr>\n",
       "    <tr>\n",
       "      <th>3</th>\n",
       "      <td>49026</td>\n",
       "      <td>The Dark Knight Rises</td>\n",
       "      <td>Following the death of District Attorney Harve...</td>\n",
       "      <td>[Action, Crime, Drama, Thriller]</td>\n",
       "      <td>[dc comics, crime fighter, terrorist, secret i...</td>\n",
       "      <td>[Christian Bale, Michael Caine, Gary Oldman]</td>\n",
       "      <td>[Christopher Nolan]</td>\n",
       "    </tr>\n",
       "    <tr>\n",
       "      <th>4</th>\n",
       "      <td>49529</td>\n",
       "      <td>John Carter</td>\n",
       "      <td>John Carter is a war-weary, former military ca...</td>\n",
       "      <td>[Action, Adventure, Science Fiction]</td>\n",
       "      <td>[based on novel, mars, medallion, space travel...</td>\n",
       "      <td>[Taylor Kitsch, Lynn Collins, Samantha Morton]</td>\n",
       "      <td>[Andrew Stanton]</td>\n",
       "    </tr>\n",
       "  </tbody>\n",
       "</table>\n",
       "</div>"
      ],
      "text/plain": [
       "       id                                     title  \\\n",
       "0   19995                                    Avatar   \n",
       "1     285  Pirates of the Caribbean: At World's End   \n",
       "2  206647                                   Spectre   \n",
       "3   49026                     The Dark Knight Rises   \n",
       "4   49529                               John Carter   \n",
       "\n",
       "                                            overview  \\\n",
       "0  In the 22nd century, a paraplegic Marine is di...   \n",
       "1  Captain Barbossa, long believed to be dead, ha...   \n",
       "2  A cryptic message from Bond’s past sends him o...   \n",
       "3  Following the death of District Attorney Harve...   \n",
       "4  John Carter is a war-weary, former military ca...   \n",
       "\n",
       "                                          genres  \\\n",
       "0  [Action, Adventure, Fantasy, Science Fiction]   \n",
       "1                   [Adventure, Fantasy, Action]   \n",
       "2                     [Action, Adventure, Crime]   \n",
       "3               [Action, Crime, Drama, Thriller]   \n",
       "4           [Action, Adventure, Science Fiction]   \n",
       "\n",
       "                                            keywords  \\\n",
       "0  [culture clash, future, space war, space colon...   \n",
       "1  [ocean, drug abuse, exotic island, east india ...   \n",
       "2  [spy, based on novel, secret agent, sequel, mi...   \n",
       "3  [dc comics, crime fighter, terrorist, secret i...   \n",
       "4  [based on novel, mars, medallion, space travel...   \n",
       "\n",
       "                                               cast                 crew  \n",
       "0  [Sam Worthington, Zoe Saldana, Sigourney Weaver]      [James Cameron]  \n",
       "1     [Johnny Depp, Orlando Bloom, Keira Knightley]     [Gore Verbinski]  \n",
       "2      [Daniel Craig, Christoph Waltz, Léa Seydoux]         [Sam Mendes]  \n",
       "3      [Christian Bale, Michael Caine, Gary Oldman]  [Christopher Nolan]  \n",
       "4    [Taylor Kitsch, Lynn Collins, Samantha Morton]     [Andrew Stanton]  "
      ]
     },
     "execution_count": 25,
     "metadata": {},
     "output_type": "execute_result"
    }
   ],
   "source": [
    "movies.head()"
   ]
  },
  {
   "cell_type": "code",
   "execution_count": 26,
   "id": "51fb3338",
   "metadata": {
    "execution": {
     "iopub.execute_input": "2024-06-02T23:06:38.845323Z",
     "iopub.status.busy": "2024-06-02T23:06:38.844855Z",
     "iopub.status.idle": "2024-06-02T23:06:38.890871Z",
     "shell.execute_reply": "2024-06-02T23:06:38.889328Z"
    },
    "papermill": {
     "duration": 0.069555,
     "end_time": "2024-06-02T23:06:38.894187",
     "exception": false,
     "start_time": "2024-06-02T23:06:38.824632",
     "status": "completed"
    },
    "tags": []
   },
   "outputs": [],
   "source": [
    "movies['overview'] = movies['overview'].apply(lambda x:x.split())"
   ]
  },
  {
   "cell_type": "code",
   "execution_count": 27,
   "id": "49f4e109",
   "metadata": {
    "execution": {
     "iopub.execute_input": "2024-06-02T23:06:38.934438Z",
     "iopub.status.busy": "2024-06-02T23:06:38.933977Z",
     "iopub.status.idle": "2024-06-02T23:06:38.999207Z",
     "shell.execute_reply": "2024-06-02T23:06:38.997949Z"
    },
    "papermill": {
     "duration": 0.09105,
     "end_time": "2024-06-02T23:06:39.004287",
     "exception": false,
     "start_time": "2024-06-02T23:06:38.913237",
     "status": "completed"
    },
    "tags": []
   },
   "outputs": [],
   "source": [
    "movies['genres'] = movies['genres'].apply(lambda x:[i.replace(\" \", \"\") for i in x])\n",
    "movies['keywords'] = movies['keywords'].apply(lambda x:[i.replace(\" \", \"\") for i in x])\n",
    "movies['cast'] = movies['cast'].apply(lambda x:[i.replace(\" \", \"\") for i in x])\n",
    "movies['crew'] = movies['crew'].apply(lambda x:[i.replace(\" \", \"\") for i in x])"
   ]
  },
  {
   "cell_type": "code",
   "execution_count": 28,
   "id": "efe9d9ab",
   "metadata": {
    "execution": {
     "iopub.execute_input": "2024-06-02T23:06:39.045321Z",
     "iopub.status.busy": "2024-06-02T23:06:39.044858Z",
     "iopub.status.idle": "2024-06-02T23:06:39.074588Z",
     "shell.execute_reply": "2024-06-02T23:06:39.073117Z"
    },
    "papermill": {
     "duration": 0.053024,
     "end_time": "2024-06-02T23:06:39.077350",
     "exception": false,
     "start_time": "2024-06-02T23:06:39.024326",
     "status": "completed"
    },
    "tags": []
   },
   "outputs": [
    {
     "data": {
      "text/html": [
       "<div>\n",
       "<style scoped>\n",
       "    .dataframe tbody tr th:only-of-type {\n",
       "        vertical-align: middle;\n",
       "    }\n",
       "\n",
       "    .dataframe tbody tr th {\n",
       "        vertical-align: top;\n",
       "    }\n",
       "\n",
       "    .dataframe thead th {\n",
       "        text-align: right;\n",
       "    }\n",
       "</style>\n",
       "<table border=\"1\" class=\"dataframe\">\n",
       "  <thead>\n",
       "    <tr style=\"text-align: right;\">\n",
       "      <th></th>\n",
       "      <th>id</th>\n",
       "      <th>title</th>\n",
       "      <th>overview</th>\n",
       "      <th>genres</th>\n",
       "      <th>keywords</th>\n",
       "      <th>cast</th>\n",
       "      <th>crew</th>\n",
       "    </tr>\n",
       "  </thead>\n",
       "  <tbody>\n",
       "    <tr>\n",
       "      <th>0</th>\n",
       "      <td>19995</td>\n",
       "      <td>Avatar</td>\n",
       "      <td>[In, the, 22nd, century,, a, paraplegic, Marin...</td>\n",
       "      <td>[Action, Adventure, Fantasy, ScienceFiction]</td>\n",
       "      <td>[cultureclash, future, spacewar, spacecolony, ...</td>\n",
       "      <td>[SamWorthington, ZoeSaldana, SigourneyWeaver]</td>\n",
       "      <td>[JamesCameron]</td>\n",
       "    </tr>\n",
       "    <tr>\n",
       "      <th>1</th>\n",
       "      <td>285</td>\n",
       "      <td>Pirates of the Caribbean: At World's End</td>\n",
       "      <td>[Captain, Barbossa,, long, believed, to, be, d...</td>\n",
       "      <td>[Adventure, Fantasy, Action]</td>\n",
       "      <td>[ocean, drugabuse, exoticisland, eastindiatrad...</td>\n",
       "      <td>[JohnnyDepp, OrlandoBloom, KeiraKnightley]</td>\n",
       "      <td>[GoreVerbinski]</td>\n",
       "    </tr>\n",
       "    <tr>\n",
       "      <th>2</th>\n",
       "      <td>206647</td>\n",
       "      <td>Spectre</td>\n",
       "      <td>[A, cryptic, message, from, Bond’s, past, send...</td>\n",
       "      <td>[Action, Adventure, Crime]</td>\n",
       "      <td>[spy, basedonnovel, secretagent, sequel, mi6, ...</td>\n",
       "      <td>[DanielCraig, ChristophWaltz, LéaSeydoux]</td>\n",
       "      <td>[SamMendes]</td>\n",
       "    </tr>\n",
       "    <tr>\n",
       "      <th>3</th>\n",
       "      <td>49026</td>\n",
       "      <td>The Dark Knight Rises</td>\n",
       "      <td>[Following, the, death, of, District, Attorney...</td>\n",
       "      <td>[Action, Crime, Drama, Thriller]</td>\n",
       "      <td>[dccomics, crimefighter, terrorist, secretiden...</td>\n",
       "      <td>[ChristianBale, MichaelCaine, GaryOldman]</td>\n",
       "      <td>[ChristopherNolan]</td>\n",
       "    </tr>\n",
       "    <tr>\n",
       "      <th>4</th>\n",
       "      <td>49529</td>\n",
       "      <td>John Carter</td>\n",
       "      <td>[John, Carter, is, a, war-weary,, former, mili...</td>\n",
       "      <td>[Action, Adventure, ScienceFiction]</td>\n",
       "      <td>[basedonnovel, mars, medallion, spacetravel, p...</td>\n",
       "      <td>[TaylorKitsch, LynnCollins, SamanthaMorton]</td>\n",
       "      <td>[AndrewStanton]</td>\n",
       "    </tr>\n",
       "  </tbody>\n",
       "</table>\n",
       "</div>"
      ],
      "text/plain": [
       "       id                                     title  \\\n",
       "0   19995                                    Avatar   \n",
       "1     285  Pirates of the Caribbean: At World's End   \n",
       "2  206647                                   Spectre   \n",
       "3   49026                     The Dark Knight Rises   \n",
       "4   49529                               John Carter   \n",
       "\n",
       "                                            overview  \\\n",
       "0  [In, the, 22nd, century,, a, paraplegic, Marin...   \n",
       "1  [Captain, Barbossa,, long, believed, to, be, d...   \n",
       "2  [A, cryptic, message, from, Bond’s, past, send...   \n",
       "3  [Following, the, death, of, District, Attorney...   \n",
       "4  [John, Carter, is, a, war-weary,, former, mili...   \n",
       "\n",
       "                                         genres  \\\n",
       "0  [Action, Adventure, Fantasy, ScienceFiction]   \n",
       "1                  [Adventure, Fantasy, Action]   \n",
       "2                    [Action, Adventure, Crime]   \n",
       "3              [Action, Crime, Drama, Thriller]   \n",
       "4           [Action, Adventure, ScienceFiction]   \n",
       "\n",
       "                                            keywords  \\\n",
       "0  [cultureclash, future, spacewar, spacecolony, ...   \n",
       "1  [ocean, drugabuse, exoticisland, eastindiatrad...   \n",
       "2  [spy, basedonnovel, secretagent, sequel, mi6, ...   \n",
       "3  [dccomics, crimefighter, terrorist, secretiden...   \n",
       "4  [basedonnovel, mars, medallion, spacetravel, p...   \n",
       "\n",
       "                                            cast                crew  \n",
       "0  [SamWorthington, ZoeSaldana, SigourneyWeaver]      [JamesCameron]  \n",
       "1     [JohnnyDepp, OrlandoBloom, KeiraKnightley]     [GoreVerbinski]  \n",
       "2      [DanielCraig, ChristophWaltz, LéaSeydoux]         [SamMendes]  \n",
       "3      [ChristianBale, MichaelCaine, GaryOldman]  [ChristopherNolan]  \n",
       "4    [TaylorKitsch, LynnCollins, SamanthaMorton]     [AndrewStanton]  "
      ]
     },
     "execution_count": 28,
     "metadata": {},
     "output_type": "execute_result"
    }
   ],
   "source": [
    "movies.head()"
   ]
  },
  {
   "cell_type": "code",
   "execution_count": 29,
   "id": "fb20e122",
   "metadata": {
    "execution": {
     "iopub.execute_input": "2024-06-02T23:06:39.118022Z",
     "iopub.status.busy": "2024-06-02T23:06:39.117592Z",
     "iopub.status.idle": "2024-06-02T23:06:39.351311Z",
     "shell.execute_reply": "2024-06-02T23:06:39.350104Z"
    },
    "papermill": {
     "duration": 0.257275,
     "end_time": "2024-06-02T23:06:39.354180",
     "exception": false,
     "start_time": "2024-06-02T23:06:39.096905",
     "status": "completed"
    },
    "tags": []
   },
   "outputs": [
    {
     "data": {
      "text/html": [
       "<div>\n",
       "<style scoped>\n",
       "    .dataframe tbody tr th:only-of-type {\n",
       "        vertical-align: middle;\n",
       "    }\n",
       "\n",
       "    .dataframe tbody tr th {\n",
       "        vertical-align: top;\n",
       "    }\n",
       "\n",
       "    .dataframe thead th {\n",
       "        text-align: right;\n",
       "    }\n",
       "</style>\n",
       "<table border=\"1\" class=\"dataframe\">\n",
       "  <thead>\n",
       "    <tr style=\"text-align: right;\">\n",
       "      <th></th>\n",
       "      <th>id</th>\n",
       "      <th>title</th>\n",
       "      <th>tags</th>\n",
       "    </tr>\n",
       "  </thead>\n",
       "  <tbody>\n",
       "    <tr>\n",
       "      <th>0</th>\n",
       "      <td>19995</td>\n",
       "      <td>Avatar</td>\n",
       "      <td>[In, the, 22nd, century,, a, paraplegic, Marin...</td>\n",
       "    </tr>\n",
       "    <tr>\n",
       "      <th>1</th>\n",
       "      <td>285</td>\n",
       "      <td>Pirates of the Caribbean: At World's End</td>\n",
       "      <td>[Captain, Barbossa,, long, believed, to, be, d...</td>\n",
       "    </tr>\n",
       "    <tr>\n",
       "      <th>2</th>\n",
       "      <td>206647</td>\n",
       "      <td>Spectre</td>\n",
       "      <td>[A, cryptic, message, from, Bond’s, past, send...</td>\n",
       "    </tr>\n",
       "    <tr>\n",
       "      <th>3</th>\n",
       "      <td>49026</td>\n",
       "      <td>The Dark Knight Rises</td>\n",
       "      <td>[Following, the, death, of, District, Attorney...</td>\n",
       "    </tr>\n",
       "    <tr>\n",
       "      <th>4</th>\n",
       "      <td>49529</td>\n",
       "      <td>John Carter</td>\n",
       "      <td>[John, Carter, is, a, war-weary,, former, mili...</td>\n",
       "    </tr>\n",
       "    <tr>\n",
       "      <th>...</th>\n",
       "      <td>...</td>\n",
       "      <td>...</td>\n",
       "      <td>...</td>\n",
       "    </tr>\n",
       "    <tr>\n",
       "      <th>4804</th>\n",
       "      <td>9367</td>\n",
       "      <td>El Mariachi</td>\n",
       "      <td>[El, Mariachi, just, wants, to, play, his, gui...</td>\n",
       "    </tr>\n",
       "    <tr>\n",
       "      <th>4805</th>\n",
       "      <td>72766</td>\n",
       "      <td>Newlyweds</td>\n",
       "      <td>[A, newlywed, couple's, honeymoon, is, upended...</td>\n",
       "    </tr>\n",
       "    <tr>\n",
       "      <th>4806</th>\n",
       "      <td>231617</td>\n",
       "      <td>Signed, Sealed, Delivered</td>\n",
       "      <td>[\"Signed,, Sealed,, Delivered\", introduces, a,...</td>\n",
       "    </tr>\n",
       "    <tr>\n",
       "      <th>4807</th>\n",
       "      <td>126186</td>\n",
       "      <td>Shanghai Calling</td>\n",
       "      <td>[When, ambitious, New, York, attorney, Sam, is...</td>\n",
       "    </tr>\n",
       "    <tr>\n",
       "      <th>4808</th>\n",
       "      <td>25975</td>\n",
       "      <td>My Date with Drew</td>\n",
       "      <td>[Ever, since, the, second, grade, when, he, fi...</td>\n",
       "    </tr>\n",
       "  </tbody>\n",
       "</table>\n",
       "<p>4806 rows × 3 columns</p>\n",
       "</div>"
      ],
      "text/plain": [
       "          id                                     title  \\\n",
       "0      19995                                    Avatar   \n",
       "1        285  Pirates of the Caribbean: At World's End   \n",
       "2     206647                                   Spectre   \n",
       "3      49026                     The Dark Knight Rises   \n",
       "4      49529                               John Carter   \n",
       "...      ...                                       ...   \n",
       "4804    9367                               El Mariachi   \n",
       "4805   72766                                 Newlyweds   \n",
       "4806  231617                 Signed, Sealed, Delivered   \n",
       "4807  126186                          Shanghai Calling   \n",
       "4808   25975                         My Date with Drew   \n",
       "\n",
       "                                                   tags  \n",
       "0     [In, the, 22nd, century,, a, paraplegic, Marin...  \n",
       "1     [Captain, Barbossa,, long, believed, to, be, d...  \n",
       "2     [A, cryptic, message, from, Bond’s, past, send...  \n",
       "3     [Following, the, death, of, District, Attorney...  \n",
       "4     [John, Carter, is, a, war-weary,, former, mili...  \n",
       "...                                                 ...  \n",
       "4804  [El, Mariachi, just, wants, to, play, his, gui...  \n",
       "4805  [A, newlywed, couple's, honeymoon, is, upended...  \n",
       "4806  [\"Signed,, Sealed,, Delivered\", introduces, a,...  \n",
       "4807  [When, ambitious, New, York, attorney, Sam, is...  \n",
       "4808  [Ever, since, the, second, grade, when, he, fi...  \n",
       "\n",
       "[4806 rows x 3 columns]"
      ]
     },
     "execution_count": 29,
     "metadata": {},
     "output_type": "execute_result"
    }
   ],
   "source": [
    "movies['tags'] = movies['overview'] + movies['genres'] + movies['keywords'] + movies['cast'] + movies['crew'] \n",
    "f_movies = movies[['id', 'title', 'tags']]\n",
    "f_movies"
   ]
  },
  {
   "cell_type": "code",
   "execution_count": 30,
   "id": "532ada89",
   "metadata": {
    "execution": {
     "iopub.execute_input": "2024-06-02T23:06:39.397382Z",
     "iopub.status.busy": "2024-06-02T23:06:39.396173Z",
     "iopub.status.idle": "2024-06-02T23:06:39.422189Z",
     "shell.execute_reply": "2024-06-02T23:06:39.420863Z"
    },
    "papermill": {
     "duration": 0.051139,
     "end_time": "2024-06-02T23:06:39.425426",
     "exception": false,
     "start_time": "2024-06-02T23:06:39.374287",
     "status": "completed"
    },
    "tags": []
   },
   "outputs": [],
   "source": [
    "f_movies.loc[:, 'tags'] = f_movies['tags'].apply(lambda x: \" \".join(x))"
   ]
  },
  {
   "cell_type": "code",
   "execution_count": 31,
   "id": "3d5d10e9",
   "metadata": {
    "execution": {
     "iopub.execute_input": "2024-06-02T23:06:39.466715Z",
     "iopub.status.busy": "2024-06-02T23:06:39.466336Z",
     "iopub.status.idle": "2024-06-02T23:06:39.480641Z",
     "shell.execute_reply": "2024-06-02T23:06:39.479089Z"
    },
    "papermill": {
     "duration": 0.037977,
     "end_time": "2024-06-02T23:06:39.483303",
     "exception": false,
     "start_time": "2024-06-02T23:06:39.445326",
     "status": "completed"
    },
    "tags": []
   },
   "outputs": [
    {
     "data": {
      "text/html": [
       "<div>\n",
       "<style scoped>\n",
       "    .dataframe tbody tr th:only-of-type {\n",
       "        vertical-align: middle;\n",
       "    }\n",
       "\n",
       "    .dataframe tbody tr th {\n",
       "        vertical-align: top;\n",
       "    }\n",
       "\n",
       "    .dataframe thead th {\n",
       "        text-align: right;\n",
       "    }\n",
       "</style>\n",
       "<table border=\"1\" class=\"dataframe\">\n",
       "  <thead>\n",
       "    <tr style=\"text-align: right;\">\n",
       "      <th></th>\n",
       "      <th>id</th>\n",
       "      <th>title</th>\n",
       "      <th>tags</th>\n",
       "    </tr>\n",
       "  </thead>\n",
       "  <tbody>\n",
       "    <tr>\n",
       "      <th>0</th>\n",
       "      <td>19995</td>\n",
       "      <td>Avatar</td>\n",
       "      <td>In the 22nd century, a paraplegic Marine is di...</td>\n",
       "    </tr>\n",
       "    <tr>\n",
       "      <th>1</th>\n",
       "      <td>285</td>\n",
       "      <td>Pirates of the Caribbean: At World's End</td>\n",
       "      <td>Captain Barbossa, long believed to be dead, ha...</td>\n",
       "    </tr>\n",
       "    <tr>\n",
       "      <th>2</th>\n",
       "      <td>206647</td>\n",
       "      <td>Spectre</td>\n",
       "      <td>A cryptic message from Bond’s past sends him o...</td>\n",
       "    </tr>\n",
       "    <tr>\n",
       "      <th>3</th>\n",
       "      <td>49026</td>\n",
       "      <td>The Dark Knight Rises</td>\n",
       "      <td>Following the death of District Attorney Harve...</td>\n",
       "    </tr>\n",
       "    <tr>\n",
       "      <th>4</th>\n",
       "      <td>49529</td>\n",
       "      <td>John Carter</td>\n",
       "      <td>John Carter is a war-weary, former military ca...</td>\n",
       "    </tr>\n",
       "  </tbody>\n",
       "</table>\n",
       "</div>"
      ],
      "text/plain": [
       "       id                                     title  \\\n",
       "0   19995                                    Avatar   \n",
       "1     285  Pirates of the Caribbean: At World's End   \n",
       "2  206647                                   Spectre   \n",
       "3   49026                     The Dark Knight Rises   \n",
       "4   49529                               John Carter   \n",
       "\n",
       "                                                tags  \n",
       "0  In the 22nd century, a paraplegic Marine is di...  \n",
       "1  Captain Barbossa, long believed to be dead, ha...  \n",
       "2  A cryptic message from Bond’s past sends him o...  \n",
       "3  Following the death of District Attorney Harve...  \n",
       "4  John Carter is a war-weary, former military ca...  "
      ]
     },
     "execution_count": 31,
     "metadata": {},
     "output_type": "execute_result"
    }
   ],
   "source": [
    "f_movies.head()"
   ]
  },
  {
   "cell_type": "code",
   "execution_count": 32,
   "id": "7e5744ba",
   "metadata": {
    "execution": {
     "iopub.execute_input": "2024-06-02T23:06:39.525126Z",
     "iopub.status.busy": "2024-06-02T23:06:39.524153Z",
     "iopub.status.idle": "2024-06-02T23:06:42.005057Z",
     "shell.execute_reply": "2024-06-02T23:06:42.000234Z"
    },
    "papermill": {
     "duration": 2.506235,
     "end_time": "2024-06-02T23:06:42.009152",
     "exception": false,
     "start_time": "2024-06-02T23:06:39.502917",
     "status": "completed"
    },
    "tags": []
   },
   "outputs": [],
   "source": [
    "import nltk"
   ]
  },
  {
   "cell_type": "code",
   "execution_count": 33,
   "id": "5cf70006",
   "metadata": {
    "execution": {
     "iopub.execute_input": "2024-06-02T23:06:42.049835Z",
     "iopub.status.busy": "2024-06-02T23:06:42.049354Z",
     "iopub.status.idle": "2024-06-02T23:06:42.055762Z",
     "shell.execute_reply": "2024-06-02T23:06:42.054252Z"
    },
    "papermill": {
     "duration": 0.029859,
     "end_time": "2024-06-02T23:06:42.058368",
     "exception": false,
     "start_time": "2024-06-02T23:06:42.028509",
     "status": "completed"
    },
    "tags": []
   },
   "outputs": [],
   "source": [
    "from nltk.stem.porter import PorterStemmer\n",
    "ps = PorterStemmer()"
   ]
  },
  {
   "cell_type": "code",
   "execution_count": 34,
   "id": "36b3dd11",
   "metadata": {
    "execution": {
     "iopub.execute_input": "2024-06-02T23:06:42.100010Z",
     "iopub.status.busy": "2024-06-02T23:06:42.099558Z",
     "iopub.status.idle": "2024-06-02T23:06:42.106600Z",
     "shell.execute_reply": "2024-06-02T23:06:42.105210Z"
    },
    "papermill": {
     "duration": 0.032262,
     "end_time": "2024-06-02T23:06:42.109767",
     "exception": false,
     "start_time": "2024-06-02T23:06:42.077505",
     "status": "completed"
    },
    "tags": []
   },
   "outputs": [],
   "source": [
    "def stem(text):\n",
    "    y= []\n",
    "    for i in text.split():\n",
    "        y.append(ps.stem(i))\n",
    "        \n",
    "    return \" \".join(y)"
   ]
  },
  {
   "cell_type": "code",
   "execution_count": 35,
   "id": "57ffafc8",
   "metadata": {
    "execution": {
     "iopub.execute_input": "2024-06-02T23:06:42.152076Z",
     "iopub.status.busy": "2024-06-02T23:06:42.151579Z",
     "iopub.status.idle": "2024-06-02T23:06:53.077471Z",
     "shell.execute_reply": "2024-06-02T23:06:53.076238Z"
    },
    "papermill": {
     "duration": 10.950518,
     "end_time": "2024-06-02T23:06:53.080530",
     "exception": false,
     "start_time": "2024-06-02T23:06:42.130012",
     "status": "completed"
    },
    "tags": []
   },
   "outputs": [],
   "source": [
    "f_movies.loc[:,'tags'] = f_movies['tags'].apply(stem)"
   ]
  },
  {
   "cell_type": "code",
   "execution_count": 36,
   "id": "339d8f62",
   "metadata": {
    "execution": {
     "iopub.execute_input": "2024-06-02T23:06:53.123140Z",
     "iopub.status.busy": "2024-06-02T23:06:53.122093Z",
     "iopub.status.idle": "2024-06-02T23:06:53.128376Z",
     "shell.execute_reply": "2024-06-02T23:06:53.127230Z"
    },
    "papermill": {
     "duration": 0.030107,
     "end_time": "2024-06-02T23:06:53.130973",
     "exception": false,
     "start_time": "2024-06-02T23:06:53.100866",
     "status": "completed"
    },
    "tags": []
   },
   "outputs": [],
   "source": [
    "from sklearn.feature_extraction.text import CountVectorizer\n",
    "cv = CountVectorizer(max_features = 5000, stop_words = 'english')"
   ]
  },
  {
   "cell_type": "code",
   "execution_count": 37,
   "id": "45cf3498",
   "metadata": {
    "execution": {
     "iopub.execute_input": "2024-06-02T23:06:53.172357Z",
     "iopub.status.busy": "2024-06-02T23:06:53.171963Z",
     "iopub.status.idle": "2024-06-02T23:06:53.884081Z",
     "shell.execute_reply": "2024-06-02T23:06:53.882787Z"
    },
    "papermill": {
     "duration": 0.736782,
     "end_time": "2024-06-02T23:06:53.887533",
     "exception": false,
     "start_time": "2024-06-02T23:06:53.150751",
     "status": "completed"
    },
    "tags": []
   },
   "outputs": [],
   "source": [
    "vectors = cv.fit_transform(f_movies['tags']).toarray()"
   ]
  },
  {
   "cell_type": "code",
   "execution_count": 38,
   "id": "c5dedfde",
   "metadata": {
    "execution": {
     "iopub.execute_input": "2024-06-02T23:06:53.929317Z",
     "iopub.status.busy": "2024-06-02T23:06:53.928903Z",
     "iopub.status.idle": "2024-06-02T23:06:53.937609Z",
     "shell.execute_reply": "2024-06-02T23:06:53.936190Z"
    },
    "papermill": {
     "duration": 0.032053,
     "end_time": "2024-06-02T23:06:53.940247",
     "exception": false,
     "start_time": "2024-06-02T23:06:53.908194",
     "status": "completed"
    },
    "tags": []
   },
   "outputs": [
    {
     "data": {
      "text/plain": [
       "array([[0, 0, 0, ..., 0, 0, 0],\n",
       "       [0, 0, 0, ..., 0, 0, 0],\n",
       "       [0, 0, 0, ..., 0, 0, 0],\n",
       "       ...,\n",
       "       [0, 0, 0, ..., 0, 0, 0],\n",
       "       [0, 0, 0, ..., 0, 0, 0],\n",
       "       [0, 0, 0, ..., 0, 0, 0]])"
      ]
     },
     "execution_count": 38,
     "metadata": {},
     "output_type": "execute_result"
    }
   ],
   "source": [
    "vectors"
   ]
  },
  {
   "cell_type": "code",
   "execution_count": 39,
   "id": "47d71ce2",
   "metadata": {
    "execution": {
     "iopub.execute_input": "2024-06-02T23:06:53.983470Z",
     "iopub.status.busy": "2024-06-02T23:06:53.983052Z",
     "iopub.status.idle": "2024-06-02T23:06:53.997532Z",
     "shell.execute_reply": "2024-06-02T23:06:53.996076Z"
    },
    "papermill": {
     "duration": 0.040071,
     "end_time": "2024-06-02T23:06:54.000231",
     "exception": false,
     "start_time": "2024-06-02T23:06:53.960160",
     "status": "completed"
    },
    "tags": []
   },
   "outputs": [
    {
     "data": {
      "text/plain": [
       "array(['000', '007', '10', ..., 'zone', 'zoo', 'zooeydeschanel'],\n",
       "      dtype=object)"
      ]
     },
     "execution_count": 39,
     "metadata": {},
     "output_type": "execute_result"
    }
   ],
   "source": [
    "cv.get_feature_names_out()"
   ]
  },
  {
   "cell_type": "code",
   "execution_count": 40,
   "id": "046df83a",
   "metadata": {
    "execution": {
     "iopub.execute_input": "2024-06-02T23:06:54.045614Z",
     "iopub.status.busy": "2024-06-02T23:06:54.045175Z",
     "iopub.status.idle": "2024-06-02T23:06:54.051910Z",
     "shell.execute_reply": "2024-06-02T23:06:54.050486Z"
    },
    "papermill": {
     "duration": 0.031766,
     "end_time": "2024-06-02T23:06:54.055051",
     "exception": false,
     "start_time": "2024-06-02T23:06:54.023285",
     "status": "completed"
    },
    "tags": []
   },
   "outputs": [],
   "source": [
    "#cosine distance to find similar movies\n",
    "from sklearn.metrics.pairwise import cosine_similarity"
   ]
  },
  {
   "cell_type": "code",
   "execution_count": 41,
   "id": "550e2880",
   "metadata": {
    "execution": {
     "iopub.execute_input": "2024-06-02T23:06:54.098214Z",
     "iopub.status.busy": "2024-06-02T23:06:54.097321Z",
     "iopub.status.idle": "2024-06-02T23:06:56.631746Z",
     "shell.execute_reply": "2024-06-02T23:06:56.630438Z"
    },
    "papermill": {
     "duration": 2.559523,
     "end_time": "2024-06-02T23:06:56.634926",
     "exception": false,
     "start_time": "2024-06-02T23:06:54.075403",
     "status": "completed"
    },
    "tags": []
   },
   "outputs": [],
   "source": [
    "similarity = cosine_similarity(vectors)"
   ]
  },
  {
   "cell_type": "code",
   "execution_count": 42,
   "id": "12af5a39",
   "metadata": {
    "execution": {
     "iopub.execute_input": "2024-06-02T23:06:56.680346Z",
     "iopub.status.busy": "2024-06-02T23:06:56.679857Z",
     "iopub.status.idle": "2024-06-02T23:06:56.687829Z",
     "shell.execute_reply": "2024-06-02T23:06:56.686497Z"
    },
    "papermill": {
     "duration": 0.033819,
     "end_time": "2024-06-02T23:06:56.690339",
     "exception": false,
     "start_time": "2024-06-02T23:06:56.656520",
     "status": "completed"
    },
    "tags": []
   },
   "outputs": [
    {
     "data": {
      "text/plain": [
       "(4806, 4806)"
      ]
     },
     "execution_count": 42,
     "metadata": {},
     "output_type": "execute_result"
    }
   ],
   "source": [
    "similarity.shape"
   ]
  },
  {
   "cell_type": "code",
   "execution_count": 43,
   "id": "4612f057",
   "metadata": {
    "execution": {
     "iopub.execute_input": "2024-06-02T23:06:56.734967Z",
     "iopub.status.busy": "2024-06-02T23:06:56.734472Z",
     "iopub.status.idle": "2024-06-02T23:06:56.742976Z",
     "shell.execute_reply": "2024-06-02T23:06:56.741650Z"
    },
    "papermill": {
     "duration": 0.033734,
     "end_time": "2024-06-02T23:06:56.746108",
     "exception": false,
     "start_time": "2024-06-02T23:06:56.712374",
     "status": "completed"
    },
    "tags": []
   },
   "outputs": [
    {
     "data": {
      "text/plain": [
       "array([1.        , 0.08346223, 0.0860309 , ..., 0.04499213, 0.        ,\n",
       "       0.        ])"
      ]
     },
     "execution_count": 43,
     "metadata": {},
     "output_type": "execute_result"
    }
   ],
   "source": [
    "similarity[0]"
   ]
  },
  {
   "cell_type": "code",
   "execution_count": 44,
   "id": "1cde62de",
   "metadata": {
    "execution": {
     "iopub.execute_input": "2024-06-02T23:06:56.790638Z",
     "iopub.status.busy": "2024-06-02T23:06:56.790113Z",
     "iopub.status.idle": "2024-06-02T23:06:56.798019Z",
     "shell.execute_reply": "2024-06-02T23:06:56.796828Z"
    },
    "papermill": {
     "duration": 0.032975,
     "end_time": "2024-06-02T23:06:56.800654",
     "exception": false,
     "start_time": "2024-06-02T23:06:56.767679",
     "status": "completed"
    },
    "tags": []
   },
   "outputs": [],
   "source": [
    "def recommend(movie):\n",
    "    movie_index = f_movies[f_movies['title'] == movie].index[0]\n",
    "    distances = similarity[movie_index]\n",
    "    movies_list = sorted(list(enumerate(distances)), reverse = True, key = lambda x:x[1])[1:6]\n",
    "    \n",
    "    for i in movies_list:\n",
    "        print(f_movies.iloc[i[0]].title)"
   ]
  },
  {
   "cell_type": "code",
   "execution_count": 45,
   "id": "54c953d2",
   "metadata": {
    "execution": {
     "iopub.execute_input": "2024-06-02T23:06:56.845319Z",
     "iopub.status.busy": "2024-06-02T23:06:56.844832Z",
     "iopub.status.idle": "2024-06-02T23:06:56.860669Z",
     "shell.execute_reply": "2024-06-02T23:06:56.858871Z"
    },
    "papermill": {
     "duration": 0.041498,
     "end_time": "2024-06-02T23:06:56.863366",
     "exception": false,
     "start_time": "2024-06-02T23:06:56.821868",
     "status": "completed"
    },
    "tags": []
   },
   "outputs": [
    {
     "name": "stdout",
     "output_type": "stream",
     "text": [
      "Batman\n",
      "Batman & Robin\n",
      "Batman Begins\n",
      "Batman Returns\n",
      "The R.M.\n"
     ]
    }
   ],
   "source": [
    "recommend('Batman')"
   ]
  },
  {
   "cell_type": "code",
   "execution_count": 46,
   "id": "5012e302",
   "metadata": {
    "execution": {
     "iopub.execute_input": "2024-06-02T23:06:56.909553Z",
     "iopub.status.busy": "2024-06-02T23:06:56.908944Z",
     "iopub.status.idle": "2024-06-02T23:06:56.915805Z",
     "shell.execute_reply": "2024-06-02T23:06:56.914383Z"
    },
    "papermill": {
     "duration": 0.034811,
     "end_time": "2024-06-02T23:06:56.918817",
     "exception": false,
     "start_time": "2024-06-02T23:06:56.884006",
     "status": "completed"
    },
    "tags": []
   },
   "outputs": [],
   "source": [
    "import pickle"
   ]
  },
  {
   "cell_type": "code",
   "execution_count": 47,
   "id": "a4b296cb",
   "metadata": {
    "execution": {
     "iopub.execute_input": "2024-06-02T23:06:56.963581Z",
     "iopub.status.busy": "2024-06-02T23:06:56.963061Z",
     "iopub.status.idle": "2024-06-02T23:06:56.978830Z",
     "shell.execute_reply": "2024-06-02T23:06:56.977199Z"
    },
    "papermill": {
     "duration": 0.042375,
     "end_time": "2024-06-02T23:06:56.982133",
     "exception": false,
     "start_time": "2024-06-02T23:06:56.939758",
     "status": "completed"
    },
    "tags": []
   },
   "outputs": [],
   "source": [
    "pickle.dump(f_movies, open('movies.pkl', 'wb'))"
   ]
  },
  {
   "cell_type": "code",
   "execution_count": 48,
   "id": "4a948fcd",
   "metadata": {
    "execution": {
     "iopub.execute_input": "2024-06-02T23:06:57.035921Z",
     "iopub.status.busy": "2024-06-02T23:06:57.035417Z",
     "iopub.status.idle": "2024-06-02T23:06:57.045006Z",
     "shell.execute_reply": "2024-06-02T23:06:57.043538Z"
    },
    "papermill": {
     "duration": 0.038224,
     "end_time": "2024-06-02T23:06:57.048419",
     "exception": false,
     "start_time": "2024-06-02T23:06:57.010195",
     "status": "completed"
    },
    "tags": []
   },
   "outputs": [
    {
     "data": {
      "text/plain": [
       "['movies.pkl', '__notebook__.ipynb']"
      ]
     },
     "execution_count": 48,
     "metadata": {},
     "output_type": "execute_result"
    }
   ],
   "source": [
    "os.listdir('/kaggle/working')"
   ]
  },
  {
   "cell_type": "code",
   "execution_count": 49,
   "id": "c2b1b877",
   "metadata": {
    "execution": {
     "iopub.execute_input": "2024-06-02T23:06:57.095953Z",
     "iopub.status.busy": "2024-06-02T23:06:57.095476Z",
     "iopub.status.idle": "2024-06-02T23:06:57.580744Z",
     "shell.execute_reply": "2024-06-02T23:06:57.579103Z"
    },
    "papermill": {
     "duration": 0.513294,
     "end_time": "2024-06-02T23:06:57.583892",
     "exception": false,
     "start_time": "2024-06-02T23:06:57.070598",
     "status": "completed"
    },
    "tags": []
   },
   "outputs": [],
   "source": [
    "pickle.dump(f_movies.to_dict(), open('movie_dict.pkl', 'wb'))\n",
    "pickle.dump(similarity,open('similarity.pkl','wb'))"
   ]
  }
 ],
 "metadata": {
  "kaggle": {
   "accelerator": "none",
   "dataSources": [
    {
     "datasetId": 138,
     "sourceId": 4508,
     "sourceType": "datasetVersion"
    }
   ],
   "dockerImageVersionId": 30698,
   "isGpuEnabled": false,
   "isInternetEnabled": true,
   "language": "python",
   "sourceType": "notebook"
  },
  "kernelspec": {
   "display_name": "Python 3",
   "language": "python",
   "name": "python3"
  },
  "language_info": {
   "codemirror_mode": {
    "name": "ipython",
    "version": 3
   },
   "file_extension": ".py",
   "mimetype": "text/x-python",
   "name": "python",
   "nbconvert_exporter": "python",
   "pygments_lexer": "ipython3",
   "version": "3.10.13"
  },
  "papermill": {
   "default_parameters": {},
   "duration": 41.469962,
   "end_time": "2024-06-02T23:06:58.530416",
   "environment_variables": {},
   "exception": null,
   "input_path": "__notebook__.ipynb",
   "output_path": "__notebook__.ipynb",
   "parameters": {},
   "start_time": "2024-06-02T23:06:17.060454",
   "version": "2.5.0"
  }
 },
 "nbformat": 4,
 "nbformat_minor": 5
}
